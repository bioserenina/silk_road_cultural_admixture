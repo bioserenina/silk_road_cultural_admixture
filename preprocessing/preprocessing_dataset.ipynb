{
  "cells": [
    {
      "cell_type": "markdown",
      "metadata": {
        "id": "jmfeMOpR-pLg"
      },
      "source": [
        "# The impact of cultural and genetic structure on food choices along the Silk Road"
      ]
    },
    {
      "cell_type": "code",
      "execution_count": null,
      "metadata": {
        "id": "at8IsFzz-pLj",
        "colab": {
          "base_uri": "https://localhost:8080/"
        },
        "outputId": "3c47b3c3-6eea-46f1-9b8c-7abf61d20b8b"
      },
      "outputs": [
        {
          "output_type": "stream",
          "name": "stderr",
          "text": [
            "/usr/local/lib/python3.7/dist-packages/statsmodels/tools/_testing.py:19: FutureWarning: pandas.util.testing is deprecated. Use the functions in the public API at pandas.testing instead.\n",
            "  import pandas.util.testing as tm\n"
          ]
        },
        {
          "output_type": "stream",
          "name": "stdout",
          "text": [
            "Mounted at /content/drive\n"
          ]
        }
      ],
      "source": [
        "import pandas\n",
        "import numpy\n",
        "\n",
        "from scipy.stats import shapiro\n",
        "import scipy.stats as stats\n",
        "from scipy.stats import chi2_contingency\n",
        "import statsmodels.api as sm\n",
        "from statsmodels.formula.api import ols\n",
        "\n",
        "from sklearn.impute import SimpleImputer\n",
        "from sklearn.preprocessing import RobustScaler\n",
        "from sklearn.preprocessing import StandardScaler\n",
        "from sklearn.preprocessing import MinMaxScaler\n",
        "\n",
        "from sklearn import decomposition\n",
        "from sklearn.manifold import TSNE\n",
        "from sklearn.manifold import MDS\n",
        "\n",
        "import matplotlib.pyplot as plt \n",
        "import seaborn as sns\n",
        "import matplotlib.patches as mpatches\n",
        "\n",
        "from google.colab import drive\n",
        "drive.mount('/content/drive')"
      ]
    },
    {
      "cell_type": "markdown",
      "metadata": {
        "id": "8yS6Cjxy-pLl"
      },
      "source": [
        "---"
      ]
    },
    {
      "cell_type": "code",
      "execution_count": null,
      "metadata": {
        "scrolled": true,
        "id": "CiFbzovL-pLl",
        "outputId": "684eb280-861a-41a6-96b2-8416d5937579",
        "colab": {
          "base_uri": "https://localhost:8080/",
          "height": 331
        }
      },
      "outputs": [
        {
          "output_type": "execute_result",
          "data": {
            "text/plain": [
              "       STATUS  NACL  PROP  LIVER  DARK_CHOCOLATE  MILK_CHOCOLATE  CAFFE  \\\n",
              "id                                                                        \n",
              "590597     NT  13.0  13.0    3.0             5.0             2.0    2.0   \n",
              "591285     NT  13.0   2.0    3.0             3.0             5.0    4.0   \n",
              "591286     NT  13.0   7.0    2.0             1.0             5.0    5.0   \n",
              "591287     MT  13.0  36.0    5.0             4.0             4.0    5.0   \n",
              "591288     NT  53.0  13.0    4.0             3.0             5.0    4.0   \n",
              "\n",
              "        ORANGE_JUICE  LEMONS  PANE_DOLCE  ...  X.1  X.2  X.3  X.4  FID  \\\n",
              "id                                        ...                            \n",
              "590597           5.0     4.0         4.0  ...  NaN  NaN  NaN  NaN  245   \n",
              "591285           5.0     5.0         5.0  ...  NaN  NaN  NaN  NaN  342   \n",
              "591286           4.0     3.0         5.0  ...  NaN  NaN  NaN  NaN  251   \n",
              "591287           5.0     5.0         3.0  ...  NaN  NaN  NaN  NaN  272   \n",
              "591288           5.0     5.0         4.0  ...  NaN  NaN  NaN  NaN  259   \n",
              "\n",
              "           IID  sex   age       paese  village  \n",
              "id                                              \n",
              "590597  590597    0  13.0  UZBEKISTAN   Karshi  \n",
              "591285  591285    0  12.0  UZBEKISTAN  Bukhara  \n",
              "591286  591286    0  47.0  UZBEKISTAN  Bukhara  \n",
              "591287  591287    0  43.0  UZBEKISTAN  Bukhara  \n",
              "591288  591288    0  19.0  UZBEKISTAN  Bukhara  \n",
              "\n",
              "[5 rows x 94 columns]"
            ],
            "text/html": [
              "\n",
              "  <div id=\"df-f9b87ff2-c381-436d-8e13-62d725e7b1f3\">\n",
              "    <div class=\"colab-df-container\">\n",
              "      <div>\n",
              "<style scoped>\n",
              "    .dataframe tbody tr th:only-of-type {\n",
              "        vertical-align: middle;\n",
              "    }\n",
              "\n",
              "    .dataframe tbody tr th {\n",
              "        vertical-align: top;\n",
              "    }\n",
              "\n",
              "    .dataframe thead th {\n",
              "        text-align: right;\n",
              "    }\n",
              "</style>\n",
              "<table border=\"1\" class=\"dataframe\">\n",
              "  <thead>\n",
              "    <tr style=\"text-align: right;\">\n",
              "      <th></th>\n",
              "      <th>STATUS</th>\n",
              "      <th>NACL</th>\n",
              "      <th>PROP</th>\n",
              "      <th>LIVER</th>\n",
              "      <th>DARK_CHOCOLATE</th>\n",
              "      <th>MILK_CHOCOLATE</th>\n",
              "      <th>CAFFE</th>\n",
              "      <th>ORANGE_JUICE</th>\n",
              "      <th>LEMONS</th>\n",
              "      <th>PANE_DOLCE</th>\n",
              "      <th>...</th>\n",
              "      <th>X.1</th>\n",
              "      <th>X.2</th>\n",
              "      <th>X.3</th>\n",
              "      <th>X.4</th>\n",
              "      <th>FID</th>\n",
              "      <th>IID</th>\n",
              "      <th>sex</th>\n",
              "      <th>age</th>\n",
              "      <th>paese</th>\n",
              "      <th>village</th>\n",
              "    </tr>\n",
              "    <tr>\n",
              "      <th>id</th>\n",
              "      <th></th>\n",
              "      <th></th>\n",
              "      <th></th>\n",
              "      <th></th>\n",
              "      <th></th>\n",
              "      <th></th>\n",
              "      <th></th>\n",
              "      <th></th>\n",
              "      <th></th>\n",
              "      <th></th>\n",
              "      <th></th>\n",
              "      <th></th>\n",
              "      <th></th>\n",
              "      <th></th>\n",
              "      <th></th>\n",
              "      <th></th>\n",
              "      <th></th>\n",
              "      <th></th>\n",
              "      <th></th>\n",
              "      <th></th>\n",
              "      <th></th>\n",
              "    </tr>\n",
              "  </thead>\n",
              "  <tbody>\n",
              "    <tr>\n",
              "      <th>590597</th>\n",
              "      <td>NT</td>\n",
              "      <td>13.0</td>\n",
              "      <td>13.0</td>\n",
              "      <td>3.0</td>\n",
              "      <td>5.0</td>\n",
              "      <td>2.0</td>\n",
              "      <td>2.0</td>\n",
              "      <td>5.0</td>\n",
              "      <td>4.0</td>\n",
              "      <td>4.0</td>\n",
              "      <td>...</td>\n",
              "      <td>NaN</td>\n",
              "      <td>NaN</td>\n",
              "      <td>NaN</td>\n",
              "      <td>NaN</td>\n",
              "      <td>245</td>\n",
              "      <td>590597</td>\n",
              "      <td>0</td>\n",
              "      <td>13.0</td>\n",
              "      <td>UZBEKISTAN</td>\n",
              "      <td>Karshi</td>\n",
              "    </tr>\n",
              "    <tr>\n",
              "      <th>591285</th>\n",
              "      <td>NT</td>\n",
              "      <td>13.0</td>\n",
              "      <td>2.0</td>\n",
              "      <td>3.0</td>\n",
              "      <td>3.0</td>\n",
              "      <td>5.0</td>\n",
              "      <td>4.0</td>\n",
              "      <td>5.0</td>\n",
              "      <td>5.0</td>\n",
              "      <td>5.0</td>\n",
              "      <td>...</td>\n",
              "      <td>NaN</td>\n",
              "      <td>NaN</td>\n",
              "      <td>NaN</td>\n",
              "      <td>NaN</td>\n",
              "      <td>342</td>\n",
              "      <td>591285</td>\n",
              "      <td>0</td>\n",
              "      <td>12.0</td>\n",
              "      <td>UZBEKISTAN</td>\n",
              "      <td>Bukhara</td>\n",
              "    </tr>\n",
              "    <tr>\n",
              "      <th>591286</th>\n",
              "      <td>NT</td>\n",
              "      <td>13.0</td>\n",
              "      <td>7.0</td>\n",
              "      <td>2.0</td>\n",
              "      <td>1.0</td>\n",
              "      <td>5.0</td>\n",
              "      <td>5.0</td>\n",
              "      <td>4.0</td>\n",
              "      <td>3.0</td>\n",
              "      <td>5.0</td>\n",
              "      <td>...</td>\n",
              "      <td>NaN</td>\n",
              "      <td>NaN</td>\n",
              "      <td>NaN</td>\n",
              "      <td>NaN</td>\n",
              "      <td>251</td>\n",
              "      <td>591286</td>\n",
              "      <td>0</td>\n",
              "      <td>47.0</td>\n",
              "      <td>UZBEKISTAN</td>\n",
              "      <td>Bukhara</td>\n",
              "    </tr>\n",
              "    <tr>\n",
              "      <th>591287</th>\n",
              "      <td>MT</td>\n",
              "      <td>13.0</td>\n",
              "      <td>36.0</td>\n",
              "      <td>5.0</td>\n",
              "      <td>4.0</td>\n",
              "      <td>4.0</td>\n",
              "      <td>5.0</td>\n",
              "      <td>5.0</td>\n",
              "      <td>5.0</td>\n",
              "      <td>3.0</td>\n",
              "      <td>...</td>\n",
              "      <td>NaN</td>\n",
              "      <td>NaN</td>\n",
              "      <td>NaN</td>\n",
              "      <td>NaN</td>\n",
              "      <td>272</td>\n",
              "      <td>591287</td>\n",
              "      <td>0</td>\n",
              "      <td>43.0</td>\n",
              "      <td>UZBEKISTAN</td>\n",
              "      <td>Bukhara</td>\n",
              "    </tr>\n",
              "    <tr>\n",
              "      <th>591288</th>\n",
              "      <td>NT</td>\n",
              "      <td>53.0</td>\n",
              "      <td>13.0</td>\n",
              "      <td>4.0</td>\n",
              "      <td>3.0</td>\n",
              "      <td>5.0</td>\n",
              "      <td>4.0</td>\n",
              "      <td>5.0</td>\n",
              "      <td>5.0</td>\n",
              "      <td>4.0</td>\n",
              "      <td>...</td>\n",
              "      <td>NaN</td>\n",
              "      <td>NaN</td>\n",
              "      <td>NaN</td>\n",
              "      <td>NaN</td>\n",
              "      <td>259</td>\n",
              "      <td>591288</td>\n",
              "      <td>0</td>\n",
              "      <td>19.0</td>\n",
              "      <td>UZBEKISTAN</td>\n",
              "      <td>Bukhara</td>\n",
              "    </tr>\n",
              "  </tbody>\n",
              "</table>\n",
              "<p>5 rows × 94 columns</p>\n",
              "</div>\n",
              "      <button class=\"colab-df-convert\" onclick=\"convertToInteractive('df-f9b87ff2-c381-436d-8e13-62d725e7b1f3')\"\n",
              "              title=\"Convert this dataframe to an interactive table.\"\n",
              "              style=\"display:none;\">\n",
              "        \n",
              "  <svg xmlns=\"http://www.w3.org/2000/svg\" height=\"24px\"viewBox=\"0 0 24 24\"\n",
              "       width=\"24px\">\n",
              "    <path d=\"M0 0h24v24H0V0z\" fill=\"none\"/>\n",
              "    <path d=\"M18.56 5.44l.94 2.06.94-2.06 2.06-.94-2.06-.94-.94-2.06-.94 2.06-2.06.94zm-11 1L8.5 8.5l.94-2.06 2.06-.94-2.06-.94L8.5 2.5l-.94 2.06-2.06.94zm10 10l.94 2.06.94-2.06 2.06-.94-2.06-.94-.94-2.06-.94 2.06-2.06.94z\"/><path d=\"M17.41 7.96l-1.37-1.37c-.4-.4-.92-.59-1.43-.59-.52 0-1.04.2-1.43.59L10.3 9.45l-7.72 7.72c-.78.78-.78 2.05 0 2.83L4 21.41c.39.39.9.59 1.41.59.51 0 1.02-.2 1.41-.59l7.78-7.78 2.81-2.81c.8-.78.8-2.07 0-2.86zM5.41 20L4 18.59l7.72-7.72 1.47 1.35L5.41 20z\"/>\n",
              "  </svg>\n",
              "      </button>\n",
              "      \n",
              "  <style>\n",
              "    .colab-df-container {\n",
              "      display:flex;\n",
              "      flex-wrap:wrap;\n",
              "      gap: 12px;\n",
              "    }\n",
              "\n",
              "    .colab-df-convert {\n",
              "      background-color: #E8F0FE;\n",
              "      border: none;\n",
              "      border-radius: 50%;\n",
              "      cursor: pointer;\n",
              "      display: none;\n",
              "      fill: #1967D2;\n",
              "      height: 32px;\n",
              "      padding: 0 0 0 0;\n",
              "      width: 32px;\n",
              "    }\n",
              "\n",
              "    .colab-df-convert:hover {\n",
              "      background-color: #E2EBFA;\n",
              "      box-shadow: 0px 1px 2px rgba(60, 64, 67, 0.3), 0px 1px 3px 1px rgba(60, 64, 67, 0.15);\n",
              "      fill: #174EA6;\n",
              "    }\n",
              "\n",
              "    [theme=dark] .colab-df-convert {\n",
              "      background-color: #3B4455;\n",
              "      fill: #D2E3FC;\n",
              "    }\n",
              "\n",
              "    [theme=dark] .colab-df-convert:hover {\n",
              "      background-color: #434B5C;\n",
              "      box-shadow: 0px 1px 3px 1px rgba(0, 0, 0, 0.15);\n",
              "      filter: drop-shadow(0px 1px 2px rgba(0, 0, 0, 0.3));\n",
              "      fill: #FFFFFF;\n",
              "    }\n",
              "  </style>\n",
              "\n",
              "      <script>\n",
              "        const buttonEl =\n",
              "          document.querySelector('#df-f9b87ff2-c381-436d-8e13-62d725e7b1f3 button.colab-df-convert');\n",
              "        buttonEl.style.display =\n",
              "          google.colab.kernel.accessAllowed ? 'block' : 'none';\n",
              "\n",
              "        async function convertToInteractive(key) {\n",
              "          const element = document.querySelector('#df-f9b87ff2-c381-436d-8e13-62d725e7b1f3');\n",
              "          const dataTable =\n",
              "            await google.colab.kernel.invokeFunction('convertToInteractive',\n",
              "                                                     [key], {});\n",
              "          if (!dataTable) return;\n",
              "\n",
              "          const docLinkHtml = 'Like what you see? Visit the ' +\n",
              "            '<a target=\"_blank\" href=https://colab.research.google.com/notebooks/data_table.ipynb>data table notebook</a>'\n",
              "            + ' to learn more about interactive tables.';\n",
              "          element.innerHTML = '';\n",
              "          dataTable['output_type'] = 'display_data';\n",
              "          await google.colab.output.renderOutput(dataTable, element);\n",
              "          const docLink = document.createElement('div');\n",
              "          docLink.innerHTML = docLinkHtml;\n",
              "          element.appendChild(docLink);\n",
              "        }\n",
              "      </script>\n",
              "    </div>\n",
              "  </div>\n",
              "  "
            ]
          },
          "metadata": {},
          "execution_count": 3
        }
      ],
      "source": [
        "tab = pandas.read_csv(food_pref, sep=\"\\t\", index_col=0)\n",
        "tab.head()"
      ]
    },
    {
      "cell_type": "code",
      "execution_count": null,
      "metadata": {
        "id": "0a8qlV-D-pLm"
      },
      "outputs": [],
      "source": [
        "tab['paese'] = tab['paese'].replace('KAZAKISTAN', 'KAZAKHSTAN')"
      ]
    },
    {
      "cell_type": "markdown",
      "metadata": {
        "id": "vO11yu7w-pLm"
      },
      "source": [
        "# Data pre-processing"
      ]
    },
    {
      "cell_type": "code",
      "execution_count": null,
      "metadata": {
        "id": "mH_Pvah1-pLn",
        "outputId": "084d0811-5cbf-4d9d-d20b-678d91ab7977",
        "colab": {
          "base_uri": "https://localhost:8080/",
          "height": 331
        }
      },
      "outputs": [
        {
          "output_type": "execute_result",
          "data": {
            "text/plain": [
              "        LIVER  DARK_CHOCOLATE  MILK_CHOCOLATE  CAFFE  ORANGE_JUICE  LEMONS  \\\n",
              "id                                                                           \n",
              "590597    3.0             5.0             2.0    2.0           5.0     4.0   \n",
              "591285    3.0             3.0             5.0    4.0           5.0     5.0   \n",
              "591286    2.0             1.0             5.0    5.0           4.0     3.0   \n",
              "591287    5.0             4.0             4.0    5.0           5.0     5.0   \n",
              "591288    4.0             3.0             5.0    4.0           5.0     5.0   \n",
              "\n",
              "        PANE_DOLCE  RED_WINE  WHITE_WINE  BIRRA  ...  ORZO  BURRO  ANGURIA  \\\n",
              "id                                               ...                         \n",
              "590597         4.0       NaN         NaN    NaN  ...   3.0    4.0      5.0   \n",
              "591285         5.0       NaN         NaN    NaN  ...   NaN    5.0      5.0   \n",
              "591286         5.0       2.0         1.0    3.0  ...   NaN    5.0      5.0   \n",
              "591287         3.0       3.0         4.0    4.0  ...   4.0    4.0      5.0   \n",
              "591288         4.0       4.0         4.0    4.0  ...   3.0    5.0      5.0   \n",
              "\n",
              "        MIRTILLI  MIRTILLO_NERO  BANANA  RISO  BARBABIETOLA  WHIPPED_CREAM  \\\n",
              "id                                                                           \n",
              "590597       4.0            NaN     5.0   3.0           5.0            NaN   \n",
              "591285       NaN            NaN     5.0   5.0           2.0            2.0   \n",
              "591286       2.0            2.0     5.0   5.0           2.0            3.0   \n",
              "591287       2.0            3.0     5.0   5.0           5.0            3.0   \n",
              "591288       NaN            1.0     5.0   5.0           4.0            5.0   \n",
              "\n",
              "        MELONE  \n",
              "id              \n",
              "590597     2.0  \n",
              "591285     5.0  \n",
              "591286     5.0  \n",
              "591287     4.0  \n",
              "591288     5.0  \n",
              "\n",
              "[5 rows x 79 columns]"
            ],
            "text/html": [
              "\n",
              "  <div id=\"df-bf722fca-0725-4c0d-a046-8abc4b309a2c\">\n",
              "    <div class=\"colab-df-container\">\n",
              "      <div>\n",
              "<style scoped>\n",
              "    .dataframe tbody tr th:only-of-type {\n",
              "        vertical-align: middle;\n",
              "    }\n",
              "\n",
              "    .dataframe tbody tr th {\n",
              "        vertical-align: top;\n",
              "    }\n",
              "\n",
              "    .dataframe thead th {\n",
              "        text-align: right;\n",
              "    }\n",
              "</style>\n",
              "<table border=\"1\" class=\"dataframe\">\n",
              "  <thead>\n",
              "    <tr style=\"text-align: right;\">\n",
              "      <th></th>\n",
              "      <th>LIVER</th>\n",
              "      <th>DARK_CHOCOLATE</th>\n",
              "      <th>MILK_CHOCOLATE</th>\n",
              "      <th>CAFFE</th>\n",
              "      <th>ORANGE_JUICE</th>\n",
              "      <th>LEMONS</th>\n",
              "      <th>PANE_DOLCE</th>\n",
              "      <th>RED_WINE</th>\n",
              "      <th>WHITE_WINE</th>\n",
              "      <th>BIRRA</th>\n",
              "      <th>...</th>\n",
              "      <th>ORZO</th>\n",
              "      <th>BURRO</th>\n",
              "      <th>ANGURIA</th>\n",
              "      <th>MIRTILLI</th>\n",
              "      <th>MIRTILLO_NERO</th>\n",
              "      <th>BANANA</th>\n",
              "      <th>RISO</th>\n",
              "      <th>BARBABIETOLA</th>\n",
              "      <th>WHIPPED_CREAM</th>\n",
              "      <th>MELONE</th>\n",
              "    </tr>\n",
              "    <tr>\n",
              "      <th>id</th>\n",
              "      <th></th>\n",
              "      <th></th>\n",
              "      <th></th>\n",
              "      <th></th>\n",
              "      <th></th>\n",
              "      <th></th>\n",
              "      <th></th>\n",
              "      <th></th>\n",
              "      <th></th>\n",
              "      <th></th>\n",
              "      <th></th>\n",
              "      <th></th>\n",
              "      <th></th>\n",
              "      <th></th>\n",
              "      <th></th>\n",
              "      <th></th>\n",
              "      <th></th>\n",
              "      <th></th>\n",
              "      <th></th>\n",
              "      <th></th>\n",
              "      <th></th>\n",
              "    </tr>\n",
              "  </thead>\n",
              "  <tbody>\n",
              "    <tr>\n",
              "      <th>590597</th>\n",
              "      <td>3.0</td>\n",
              "      <td>5.0</td>\n",
              "      <td>2.0</td>\n",
              "      <td>2.0</td>\n",
              "      <td>5.0</td>\n",
              "      <td>4.0</td>\n",
              "      <td>4.0</td>\n",
              "      <td>NaN</td>\n",
              "      <td>NaN</td>\n",
              "      <td>NaN</td>\n",
              "      <td>...</td>\n",
              "      <td>3.0</td>\n",
              "      <td>4.0</td>\n",
              "      <td>5.0</td>\n",
              "      <td>4.0</td>\n",
              "      <td>NaN</td>\n",
              "      <td>5.0</td>\n",
              "      <td>3.0</td>\n",
              "      <td>5.0</td>\n",
              "      <td>NaN</td>\n",
              "      <td>2.0</td>\n",
              "    </tr>\n",
              "    <tr>\n",
              "      <th>591285</th>\n",
              "      <td>3.0</td>\n",
              "      <td>3.0</td>\n",
              "      <td>5.0</td>\n",
              "      <td>4.0</td>\n",
              "      <td>5.0</td>\n",
              "      <td>5.0</td>\n",
              "      <td>5.0</td>\n",
              "      <td>NaN</td>\n",
              "      <td>NaN</td>\n",
              "      <td>NaN</td>\n",
              "      <td>...</td>\n",
              "      <td>NaN</td>\n",
              "      <td>5.0</td>\n",
              "      <td>5.0</td>\n",
              "      <td>NaN</td>\n",
              "      <td>NaN</td>\n",
              "      <td>5.0</td>\n",
              "      <td>5.0</td>\n",
              "      <td>2.0</td>\n",
              "      <td>2.0</td>\n",
              "      <td>5.0</td>\n",
              "    </tr>\n",
              "    <tr>\n",
              "      <th>591286</th>\n",
              "      <td>2.0</td>\n",
              "      <td>1.0</td>\n",
              "      <td>5.0</td>\n",
              "      <td>5.0</td>\n",
              "      <td>4.0</td>\n",
              "      <td>3.0</td>\n",
              "      <td>5.0</td>\n",
              "      <td>2.0</td>\n",
              "      <td>1.0</td>\n",
              "      <td>3.0</td>\n",
              "      <td>...</td>\n",
              "      <td>NaN</td>\n",
              "      <td>5.0</td>\n",
              "      <td>5.0</td>\n",
              "      <td>2.0</td>\n",
              "      <td>2.0</td>\n",
              "      <td>5.0</td>\n",
              "      <td>5.0</td>\n",
              "      <td>2.0</td>\n",
              "      <td>3.0</td>\n",
              "      <td>5.0</td>\n",
              "    </tr>\n",
              "    <tr>\n",
              "      <th>591287</th>\n",
              "      <td>5.0</td>\n",
              "      <td>4.0</td>\n",
              "      <td>4.0</td>\n",
              "      <td>5.0</td>\n",
              "      <td>5.0</td>\n",
              "      <td>5.0</td>\n",
              "      <td>3.0</td>\n",
              "      <td>3.0</td>\n",
              "      <td>4.0</td>\n",
              "      <td>4.0</td>\n",
              "      <td>...</td>\n",
              "      <td>4.0</td>\n",
              "      <td>4.0</td>\n",
              "      <td>5.0</td>\n",
              "      <td>2.0</td>\n",
              "      <td>3.0</td>\n",
              "      <td>5.0</td>\n",
              "      <td>5.0</td>\n",
              "      <td>5.0</td>\n",
              "      <td>3.0</td>\n",
              "      <td>4.0</td>\n",
              "    </tr>\n",
              "    <tr>\n",
              "      <th>591288</th>\n",
              "      <td>4.0</td>\n",
              "      <td>3.0</td>\n",
              "      <td>5.0</td>\n",
              "      <td>4.0</td>\n",
              "      <td>5.0</td>\n",
              "      <td>5.0</td>\n",
              "      <td>4.0</td>\n",
              "      <td>4.0</td>\n",
              "      <td>4.0</td>\n",
              "      <td>4.0</td>\n",
              "      <td>...</td>\n",
              "      <td>3.0</td>\n",
              "      <td>5.0</td>\n",
              "      <td>5.0</td>\n",
              "      <td>NaN</td>\n",
              "      <td>1.0</td>\n",
              "      <td>5.0</td>\n",
              "      <td>5.0</td>\n",
              "      <td>4.0</td>\n",
              "      <td>5.0</td>\n",
              "      <td>5.0</td>\n",
              "    </tr>\n",
              "  </tbody>\n",
              "</table>\n",
              "<p>5 rows × 79 columns</p>\n",
              "</div>\n",
              "      <button class=\"colab-df-convert\" onclick=\"convertToInteractive('df-bf722fca-0725-4c0d-a046-8abc4b309a2c')\"\n",
              "              title=\"Convert this dataframe to an interactive table.\"\n",
              "              style=\"display:none;\">\n",
              "        \n",
              "  <svg xmlns=\"http://www.w3.org/2000/svg\" height=\"24px\"viewBox=\"0 0 24 24\"\n",
              "       width=\"24px\">\n",
              "    <path d=\"M0 0h24v24H0V0z\" fill=\"none\"/>\n",
              "    <path d=\"M18.56 5.44l.94 2.06.94-2.06 2.06-.94-2.06-.94-.94-2.06-.94 2.06-2.06.94zm-11 1L8.5 8.5l.94-2.06 2.06-.94-2.06-.94L8.5 2.5l-.94 2.06-2.06.94zm10 10l.94 2.06.94-2.06 2.06-.94-2.06-.94-.94-2.06-.94 2.06-2.06.94z\"/><path d=\"M17.41 7.96l-1.37-1.37c-.4-.4-.92-.59-1.43-.59-.52 0-1.04.2-1.43.59L10.3 9.45l-7.72 7.72c-.78.78-.78 2.05 0 2.83L4 21.41c.39.39.9.59 1.41.59.51 0 1.02-.2 1.41-.59l7.78-7.78 2.81-2.81c.8-.78.8-2.07 0-2.86zM5.41 20L4 18.59l7.72-7.72 1.47 1.35L5.41 20z\"/>\n",
              "  </svg>\n",
              "      </button>\n",
              "      \n",
              "  <style>\n",
              "    .colab-df-container {\n",
              "      display:flex;\n",
              "      flex-wrap:wrap;\n",
              "      gap: 12px;\n",
              "    }\n",
              "\n",
              "    .colab-df-convert {\n",
              "      background-color: #E8F0FE;\n",
              "      border: none;\n",
              "      border-radius: 50%;\n",
              "      cursor: pointer;\n",
              "      display: none;\n",
              "      fill: #1967D2;\n",
              "      height: 32px;\n",
              "      padding: 0 0 0 0;\n",
              "      width: 32px;\n",
              "    }\n",
              "\n",
              "    .colab-df-convert:hover {\n",
              "      background-color: #E2EBFA;\n",
              "      box-shadow: 0px 1px 2px rgba(60, 64, 67, 0.3), 0px 1px 3px 1px rgba(60, 64, 67, 0.15);\n",
              "      fill: #174EA6;\n",
              "    }\n",
              "\n",
              "    [theme=dark] .colab-df-convert {\n",
              "      background-color: #3B4455;\n",
              "      fill: #D2E3FC;\n",
              "    }\n",
              "\n",
              "    [theme=dark] .colab-df-convert:hover {\n",
              "      background-color: #434B5C;\n",
              "      box-shadow: 0px 1px 3px 1px rgba(0, 0, 0, 0.15);\n",
              "      filter: drop-shadow(0px 1px 2px rgba(0, 0, 0, 0.3));\n",
              "      fill: #FFFFFF;\n",
              "    }\n",
              "  </style>\n",
              "\n",
              "      <script>\n",
              "        const buttonEl =\n",
              "          document.querySelector('#df-bf722fca-0725-4c0d-a046-8abc4b309a2c button.colab-df-convert');\n",
              "        buttonEl.style.display =\n",
              "          google.colab.kernel.accessAllowed ? 'block' : 'none';\n",
              "\n",
              "        async function convertToInteractive(key) {\n",
              "          const element = document.querySelector('#df-bf722fca-0725-4c0d-a046-8abc4b309a2c');\n",
              "          const dataTable =\n",
              "            await google.colab.kernel.invokeFunction('convertToInteractive',\n",
              "                                                     [key], {});\n",
              "          if (!dataTable) return;\n",
              "\n",
              "          const docLinkHtml = 'Like what you see? Visit the ' +\n",
              "            '<a target=\"_blank\" href=https://colab.research.google.com/notebooks/data_table.ipynb>data table notebook</a>'\n",
              "            + ' to learn more about interactive tables.';\n",
              "          element.innerHTML = '';\n",
              "          dataTable['output_type'] = 'display_data';\n",
              "          await google.colab.output.renderOutput(dataTable, element);\n",
              "          const docLink = document.createElement('div');\n",
              "          docLink.innerHTML = docLinkHtml;\n",
              "          element.appendChild(docLink);\n",
              "        }\n",
              "      </script>\n",
              "    </div>\n",
              "  </div>\n",
              "  "
            ]
          },
          "metadata": {},
          "execution_count": 5
        }
      ],
      "source": [
        "# set the food columns\n",
        "food = ['LIVER','DARK_CHOCOLATE',\n",
        "       'MILK_CHOCOLATE', 'CAFFE', 'ORANGE_JUICE', 'LEMONS', 'PANE_DOLCE',\n",
        "       'RED_WINE', 'WHITE_WINE', 'BIRRA', 'VODKA', 'PORK_CHOPS', 'HAM',\n",
        "       'WILD_MUSHROOMS', 'ASPARAGUS', 'SPINACH', 'CABBAGE', 'GARLIC', 'ONION',\n",
        "       'KILKA', 'OLIVE', 'ARTICHOKES', 'ICE_CREAM', 'SALAME_COTTO', 'HOT_TEA',\n",
        "       'SARDINES', 'CHILLI_PEPPER', 'TORTA', 'LAMB', 'BRANDY', 'PISELLI',\n",
        "       'FAGIOLI', 'FAVE', 'TOMATOES', 'RAPA', 'NOCI', 'MELOGRANO', 'CETRIOLI',\n",
        "       'WHOLE_MILK', 'YOGURT', 'SHEEP_CHEESE', 'FORM_FUSO', 'FIOCCHI_LATTE',\n",
        "       'KURUT', 'FORM_AFFUMICATO', 'SULGUNI', 'RICOTTA_DOLCE',\n",
        "       'RICOTTA_SALATA', 'GRANO_SARACENO', 'BISCOTTI_SECCHI', 'BISCOTTI_CREME',\n",
        "       'EGGPLANT', 'CAROTE_COTTE', 'CAROTE_CRUDE', 'ACETO', 'MONTONE',\n",
        "       'MANDORLE', 'AMARENE', 'SUSINE', 'MELE', 'MIELE', 'MARMELLATA', 'GELSO',\n",
        "       'FRUTTA_SECCA', 'FRAGOLE', 'PRUGNE', 'PEPERONI', 'ADGIKA', 'ANETO',\n",
        "       'ORZO', 'BURRO', 'ANGURIA', 'MIRTILLI', 'MIRTILLO_NERO', 'BANANA',\n",
        "       'RISO', 'BARBABIETOLA', 'WHIPPED_CREAM', 'MELONE']\n",
        "init_food_db = tab[food]\n",
        "init_food_db.head()"
      ]
    },
    {
      "cell_type": "markdown",
      "metadata": {
        "id": "n1PmqE7y-pLn"
      },
      "source": [
        "### translate names"
      ]
    },
    {
      "cell_type": "code",
      "execution_count": null,
      "metadata": {
        "id": "hXetpR57-pLn"
      },
      "outputs": [],
      "source": [
        "names = pandas.read_excel('food_terms_translation.xlsx')\n",
        "names_dict = names.set_index('MIXED')['ENG'].to_dict()"
      ]
    },
    {
      "cell_type": "code",
      "execution_count": null,
      "metadata": {
        "id": "THrwYrUv-pLn"
      },
      "outputs": [],
      "source": [
        "init_food_db.columns = init_food_db.columns.map(names_dict)"
      ]
    },
    {
      "cell_type": "code",
      "execution_count": null,
      "metadata": {
        "id": "OIb9PRAN-pLo"
      },
      "outputs": [],
      "source": [
        "tab.columns = tab.columns.map(lambda x: names_dict[x] if x in names_dict else x)"
      ]
    },
    {
      "cell_type": "code",
      "execution_count": null,
      "metadata": {
        "id": "xrNix042-pLo"
      },
      "outputs": [],
      "source": [
        "food = [names_dict[x] if x in names_dict else x for x in food]"
      ]
    },
    {
      "cell_type": "code",
      "execution_count": null,
      "metadata": {
        "id": "kriundFq-pLo",
        "outputId": "c3a04572-76d2-46bb-9f7c-b48b158749d0",
        "colab": {
          "base_uri": "https://localhost:8080/"
        }
      },
      "outputs": [
        {
          "output_type": "execute_result",
          "data": {
            "text/plain": [
              "GEORGIA       122\n",
              "ARMENIA       104\n",
              "UZBEKISTAN    102\n",
              "TAJIKISTAN     98\n",
              "AZERBAIJAN     65\n",
              "KAZAKHSTAN     52\n",
              "Name: paese, dtype: int64"
            ]
          },
          "metadata": {},
          "execution_count": 10
        }
      ],
      "source": [
        "tab['paese'].value_counts()"
      ]
    },
    {
      "cell_type": "code",
      "execution_count": null,
      "metadata": {
        "id": "dcxj8kbn-pLo",
        "outputId": "a3552444-d154-4ae8-d470-7b09757ad235",
        "colab": {
          "base_uri": "https://localhost:8080/"
        }
      },
      "outputs": [
        {
          "output_type": "execute_result",
          "data": {
            "text/plain": [
              "0    310\n",
              "1    233\n",
              "Name: sex, dtype: int64"
            ]
          },
          "metadata": {},
          "execution_count": 11
        }
      ],
      "source": [
        "tab['sex'].value_counts()"
      ]
    },
    {
      "cell_type": "code",
      "execution_count": null,
      "metadata": {
        "id": "y8Vx5rrH-pLo",
        "outputId": "88000ec3-a186-4419-b1ba-b4d6abe2b117",
        "colab": {
          "base_uri": "https://localhost:8080/"
        }
      },
      "outputs": [
        {
          "output_type": "execute_result",
          "data": {
            "text/plain": [
              "9.0"
            ]
          },
          "metadata": {},
          "execution_count": 12
        }
      ],
      "source": [
        "min(tab['age'])"
      ]
    },
    {
      "cell_type": "code",
      "execution_count": null,
      "metadata": {
        "id": "GWm4ILE6-pLp",
        "outputId": "12622941-2429-44fd-8b34-e4febf72abcd",
        "colab": {
          "base_uri": "https://localhost:8080/"
        }
      },
      "outputs": [
        {
          "output_type": "execute_result",
          "data": {
            "text/plain": [
              "82.0"
            ]
          },
          "metadata": {},
          "execution_count": 13
        }
      ],
      "source": [
        "max(tab['age'])"
      ]
    },
    {
      "cell_type": "code",
      "execution_count": null,
      "metadata": {
        "id": "edHvONx2-pLp",
        "outputId": "99cb1cf8-524c-43ed-df79-a0ddd8d6b70c",
        "colab": {
          "base_uri": "https://localhost:8080/"
        }
      },
      "outputs": [
        {
          "output_type": "execute_result",
          "data": {
            "text/plain": [
              "(Imereti, GEORGIA)              62\n",
              "(Kakheti, GEORGIA)              44\n",
              "(Bukhara, UZBEKISTAN)           43\n",
              "(Karshi, UZBEKISTAN)            36\n",
              "(Sis, AZERBAIJAN)               36\n",
              "(Chambarak, ARMENIA)            33\n",
              "(Khorog, TAJIKISTAN)            30\n",
              "(Alga, KAZAKHSTAN)              28\n",
              "(Ismailly, AZERBAIJAN)          26\n",
              "(Almaty, KAZAKHSTAN)            24\n",
              "(Shing, TAJIKISTAN)             21\n",
              "(Tashkent, UZBEKISTAN)          21\n",
              "(Yegvard, ARMENIA)              20\n",
              "(Kalaikhum, TAJIKISTAN)         19\n",
              "(Rushan, TAJIKISTAN)            19\n",
              "(Martumi, ARMENIA)              16\n",
              "(Mtskheta_Mtianeti, GEORGIA)    16\n",
              "(Gavar, ARMENIA)                15\n",
              "(Deprabak, ARMENIA)             10\n",
              "(Yerevan, ARMENIA)               9\n",
              "(Zeravshan, TAJIKISTAN)          9\n",
              "(nan, AZERBAIJAN)                2\n",
              "(nan, UZBEKISTAN)                2\n",
              "(Torino, ARMENIA)                1\n",
              "(Torino, AZERBAIJAN)             1\n",
              "dtype: int64"
            ]
          },
          "metadata": {},
          "execution_count": 14
        }
      ],
      "source": [
        "tab[['village', 'paese']].apply(tuple, axis=1).value_counts()"
      ]
    },
    {
      "cell_type": "markdown",
      "metadata": {
        "id": "o_iwR_mX-pLp"
      },
      "source": [
        "The column \"TORTA\" contains two strange values: 55 (594278) and 51 (594715).\n",
        "We recode these values as missing."
      ]
    },
    {
      "cell_type": "code",
      "execution_count": null,
      "metadata": {
        "scrolled": true,
        "id": "2EQh7aiJ-pLp"
      },
      "outputs": [],
      "source": [
        "food_db = init_food_db.copy()\n",
        "\n",
        "food_db.at[594278, 'CAKE'] = None\n",
        "food_db.at[594715, 'CAKE'] = None "
      ]
    },
    {
      "cell_type": "markdown",
      "metadata": {
        "id": "vTvWCqQM-pLq"
      },
      "source": [
        "### High missing samples"
      ]
    },
    {
      "cell_type": "markdown",
      "metadata": {
        "id": "dt4hql1X-pLq"
      },
      "source": [
        "Two samples contain only missing values (food features), thus we remove them."
      ]
    },
    {
      "cell_type": "code",
      "execution_count": null,
      "metadata": {
        "id": "9MeHB8aR-pLq"
      },
      "outputs": [],
      "source": [
        "missing_samples = food_db.loc[food_db.mean(axis=1).sort_values().isnull()].index\n",
        "food_db2 = food_db.drop(missing_samples, axis=0)"
      ]
    },
    {
      "cell_type": "markdown",
      "metadata": {
        "id": "Ny7aY6nj-pLq"
      },
      "source": [
        "### Evaluation of std"
      ]
    },
    {
      "cell_type": "markdown",
      "metadata": {
        "id": "IK2upeUr-pLq"
      },
      "source": [
        "We remove three samples with sd = 0."
      ]
    },
    {
      "cell_type": "code",
      "execution_count": null,
      "metadata": {
        "id": "tEGEombS-pLq"
      },
      "outputs": [],
      "source": [
        "sd0 = food_db2.loc[food_db2.std(axis=1).sort_values() == 0].index\n",
        "food_db2_nosd0 = food_db2.drop(sd0, axis=0)"
      ]
    },
    {
      "cell_type": "code",
      "execution_count": null,
      "metadata": {
        "id": "_VNDXrp_-pLq"
      },
      "outputs": [],
      "source": [
        "#food_db2_nosd0.to_csv('dataset/food_db2_nosd0.tsv', sep=\"\\t\")"
      ]
    },
    {
      "cell_type": "markdown",
      "metadata": {
        "id": "bcJGl9ZR-pLr"
      },
      "source": [
        "Is there a different missing count among different countries?"
      ]
    },
    {
      "cell_type": "code",
      "execution_count": null,
      "metadata": {
        "id": "Fm4pYnMT-pLr",
        "outputId": "74c6c3f0-496d-4ede-a496-bec47c682732",
        "colab": {
          "base_uri": "https://localhost:8080/",
          "height": 237
        }
      },
      "outputs": [
        {
          "output_type": "execute_result",
          "data": {
            "text/plain": [
              "               0     1\n",
              "paese                 \n",
              "ARMENIA     7767   449\n",
              "AZERBAIJAN  4404   652\n",
              "GEORGIA     9064   416\n",
              "KAZAKHSTAN  3752   356\n",
              "TAJIKISTAN  6459  1125"
            ],
            "text/html": [
              "\n",
              "  <div id=\"df-c501b4d6-0ad5-483c-8cd4-5789462101d6\">\n",
              "    <div class=\"colab-df-container\">\n",
              "      <div>\n",
              "<style scoped>\n",
              "    .dataframe tbody tr th:only-of-type {\n",
              "        vertical-align: middle;\n",
              "    }\n",
              "\n",
              "    .dataframe tbody tr th {\n",
              "        vertical-align: top;\n",
              "    }\n",
              "\n",
              "    .dataframe thead th {\n",
              "        text-align: right;\n",
              "    }\n",
              "</style>\n",
              "<table border=\"1\" class=\"dataframe\">\n",
              "  <thead>\n",
              "    <tr style=\"text-align: right;\">\n",
              "      <th></th>\n",
              "      <th>0</th>\n",
              "      <th>1</th>\n",
              "    </tr>\n",
              "    <tr>\n",
              "      <th>paese</th>\n",
              "      <th></th>\n",
              "      <th></th>\n",
              "    </tr>\n",
              "  </thead>\n",
              "  <tbody>\n",
              "    <tr>\n",
              "      <th>ARMENIA</th>\n",
              "      <td>7767</td>\n",
              "      <td>449</td>\n",
              "    </tr>\n",
              "    <tr>\n",
              "      <th>AZERBAIJAN</th>\n",
              "      <td>4404</td>\n",
              "      <td>652</td>\n",
              "    </tr>\n",
              "    <tr>\n",
              "      <th>GEORGIA</th>\n",
              "      <td>9064</td>\n",
              "      <td>416</td>\n",
              "    </tr>\n",
              "    <tr>\n",
              "      <th>KAZAKHSTAN</th>\n",
              "      <td>3752</td>\n",
              "      <td>356</td>\n",
              "    </tr>\n",
              "    <tr>\n",
              "      <th>TAJIKISTAN</th>\n",
              "      <td>6459</td>\n",
              "      <td>1125</td>\n",
              "    </tr>\n",
              "  </tbody>\n",
              "</table>\n",
              "</div>\n",
              "      <button class=\"colab-df-convert\" onclick=\"convertToInteractive('df-c501b4d6-0ad5-483c-8cd4-5789462101d6')\"\n",
              "              title=\"Convert this dataframe to an interactive table.\"\n",
              "              style=\"display:none;\">\n",
              "        \n",
              "  <svg xmlns=\"http://www.w3.org/2000/svg\" height=\"24px\"viewBox=\"0 0 24 24\"\n",
              "       width=\"24px\">\n",
              "    <path d=\"M0 0h24v24H0V0z\" fill=\"none\"/>\n",
              "    <path d=\"M18.56 5.44l.94 2.06.94-2.06 2.06-.94-2.06-.94-.94-2.06-.94 2.06-2.06.94zm-11 1L8.5 8.5l.94-2.06 2.06-.94-2.06-.94L8.5 2.5l-.94 2.06-2.06.94zm10 10l.94 2.06.94-2.06 2.06-.94-2.06-.94-.94-2.06-.94 2.06-2.06.94z\"/><path d=\"M17.41 7.96l-1.37-1.37c-.4-.4-.92-.59-1.43-.59-.52 0-1.04.2-1.43.59L10.3 9.45l-7.72 7.72c-.78.78-.78 2.05 0 2.83L4 21.41c.39.39.9.59 1.41.59.51 0 1.02-.2 1.41-.59l7.78-7.78 2.81-2.81c.8-.78.8-2.07 0-2.86zM5.41 20L4 18.59l7.72-7.72 1.47 1.35L5.41 20z\"/>\n",
              "  </svg>\n",
              "      </button>\n",
              "      \n",
              "  <style>\n",
              "    .colab-df-container {\n",
              "      display:flex;\n",
              "      flex-wrap:wrap;\n",
              "      gap: 12px;\n",
              "    }\n",
              "\n",
              "    .colab-df-convert {\n",
              "      background-color: #E8F0FE;\n",
              "      border: none;\n",
              "      border-radius: 50%;\n",
              "      cursor: pointer;\n",
              "      display: none;\n",
              "      fill: #1967D2;\n",
              "      height: 32px;\n",
              "      padding: 0 0 0 0;\n",
              "      width: 32px;\n",
              "    }\n",
              "\n",
              "    .colab-df-convert:hover {\n",
              "      background-color: #E2EBFA;\n",
              "      box-shadow: 0px 1px 2px rgba(60, 64, 67, 0.3), 0px 1px 3px 1px rgba(60, 64, 67, 0.15);\n",
              "      fill: #174EA6;\n",
              "    }\n",
              "\n",
              "    [theme=dark] .colab-df-convert {\n",
              "      background-color: #3B4455;\n",
              "      fill: #D2E3FC;\n",
              "    }\n",
              "\n",
              "    [theme=dark] .colab-df-convert:hover {\n",
              "      background-color: #434B5C;\n",
              "      box-shadow: 0px 1px 3px 1px rgba(0, 0, 0, 0.15);\n",
              "      filter: drop-shadow(0px 1px 2px rgba(0, 0, 0, 0.3));\n",
              "      fill: #FFFFFF;\n",
              "    }\n",
              "  </style>\n",
              "\n",
              "      <script>\n",
              "        const buttonEl =\n",
              "          document.querySelector('#df-c501b4d6-0ad5-483c-8cd4-5789462101d6 button.colab-df-convert');\n",
              "        buttonEl.style.display =\n",
              "          google.colab.kernel.accessAllowed ? 'block' : 'none';\n",
              "\n",
              "        async function convertToInteractive(key) {\n",
              "          const element = document.querySelector('#df-c501b4d6-0ad5-483c-8cd4-5789462101d6');\n",
              "          const dataTable =\n",
              "            await google.colab.kernel.invokeFunction('convertToInteractive',\n",
              "                                                     [key], {});\n",
              "          if (!dataTable) return;\n",
              "\n",
              "          const docLinkHtml = 'Like what you see? Visit the ' +\n",
              "            '<a target=\"_blank\" href=https://colab.research.google.com/notebooks/data_table.ipynb>data table notebook</a>'\n",
              "            + ' to learn more about interactive tables.';\n",
              "          element.innerHTML = '';\n",
              "          dataTable['output_type'] = 'display_data';\n",
              "          await google.colab.output.renderOutput(dataTable, element);\n",
              "          const docLink = document.createElement('div');\n",
              "          docLink.innerHTML = docLinkHtml;\n",
              "          element.appendChild(docLink);\n",
              "        }\n",
              "      </script>\n",
              "    </div>\n",
              "  </div>\n",
              "  "
            ]
          },
          "metadata": {},
          "execution_count": 18
        }
      ],
      "source": [
        "miss_samples_db = pandas.DataFrame(food_db2_nosd0.count(axis=1).sort_values())\n",
        "miss_samples_db['miss_ratio'] = 1-(miss_samples_db[0]/len(food_db.columns))\n",
        "miss_samples_db['paese'] = tab['paese']\n",
        "miss_samples_db.loc[miss_samples_db['miss_ratio'] >= 0.20]['paese'].value_counts()\n",
        "\n",
        "miss_samples_db['missing'] = 79-miss_samples_db[0]\n",
        "miss_chi = pandas.DataFrame(miss_samples_db.groupby('paese')[0].sum())\n",
        "miss_chi[1] = miss_samples_db.groupby('paese')['missing'].sum()\n",
        "miss_chi.head()"
      ]
    },
    {
      "cell_type": "code",
      "execution_count": null,
      "metadata": {
        "id": "DIjew2ce-pLr",
        "outputId": "54d10dec-668b-4aee-beb2-c00a70d7013b",
        "colab": {
          "base_uri": "https://localhost:8080/"
        }
      },
      "outputs": [
        {
          "output_type": "execute_result",
          "data": {
            "text/plain": [
              "(869.2066747959359,\n",
              " 1.2279203784074195e-185,\n",
              " 5,\n",
              " array([[7437.1598513 ,  778.8401487 ],\n",
              "        [4576.71375465,  479.28624535],\n",
              "        [8581.33828996,  898.66171004],\n",
              "        [3718.57992565,  389.42007435],\n",
              "        [6865.07063197,  718.92936803],\n",
              "        [7294.13754647,  763.86245353]]))"
            ]
          },
          "metadata": {},
          "execution_count": 19
        }
      ],
      "source": [
        "chi2_contingency(miss_chi)"
      ]
    },
    {
      "cell_type": "markdown",
      "metadata": {
        "id": "-0XiJzfz-pLr"
      },
      "source": [
        "### High missing food"
      ]
    },
    {
      "cell_type": "code",
      "execution_count": null,
      "metadata": {
        "id": "7jJNdMmt-pLr",
        "outputId": "629aed35-e89c-45f3-c599-4449bab642d8",
        "colab": {
          "base_uri": "https://localhost:8080/"
        }
      },
      "outputs": [
        {
          "output_type": "execute_result",
          "data": {
            "text/plain": [
              "ARTICHOKES        337\n",
              "ASPARAGUS         249\n",
              "BRANDY            229\n",
              "PORK_CHOPS        192\n",
              "VODKA             179\n",
              "HAM               164\n",
              "SULGUNI           163\n",
              "KURUT             155\n",
              "WHITE_WINE        155\n",
              "BLACKBERRY        143\n",
              "BEER              139\n",
              "RED_WINE          134\n",
              "COOKED_SALAMI     128\n",
              "BARLEY            120\n",
              "VINEGAR           113\n",
              "BLUEBERRY         112\n",
              "SALTY_RICOTTA      98\n",
              "OLIVES             87\n",
              "SWEET_RICOTTA      87\n",
              "MELTED_CHEESE      69\n",
              "SMOKED_CHEESE      61\n",
              "SHEEP_CHEESE       55\n",
              "SPINACH            53\n",
              "COTTAGE_CHEESE     53\n",
              "ADGIKA             50\n",
              "SARDINES           44\n",
              "KILKA              44\n",
              "CHILLI_PEPPER      42\n",
              "WILD_MUSHROOMS     35\n",
              "FAVA_BEANS         32\n",
              "dtype: int64"
            ]
          },
          "metadata": {},
          "execution_count": 23
        }
      ],
      "source": [
        "# number of missing values \n",
        "\n",
        "food_db2_nosd0.shape[0] - food_db2_nosd0.count().sort_values()[0:30]\n",
        "#538 individuals"
      ]
    },
    {
      "cell_type": "code",
      "execution_count": null,
      "metadata": {
        "id": "MNzjMkVy-pLr",
        "outputId": "e6c5279c-b158-49a0-bc8a-aaa9d044ae40",
        "colab": {
          "base_uri": "https://localhost:8080/"
        }
      },
      "outputs": [
        {
          "output_type": "execute_result",
          "data": {
            "text/plain": [
              "Index(['RED_WINE', 'WHITE_WINE', 'BEER', 'VODKA', 'PORK_CHOPS', 'HAM',\n",
              "       'ASPARAGUS', 'ARTICHOKES', 'COOKED_SALAMI', 'BRANDY', 'KURUT',\n",
              "       'SULGUNI', 'VINEGAR', 'BARLEY', 'BLUEBERRY', 'BLACKBERRY'],\n",
              "      dtype='object')"
            ]
          },
          "metadata": {},
          "execution_count": 22
        }
      ],
      "source": [
        "# food_db2_nosd0.shape[0] is 538 (individuals)\n",
        "high_missing_food = food_db2_nosd0.count()[(food_db2_nosd0.shape[0] - food_db2_nosd0.count().sort_values()) > 100].index\n",
        "high_missing_food"
      ]
    },
    {
      "cell_type": "markdown",
      "metadata": {
        "id": "jONxyAyw-pLr"
      },
      "source": [
        "### Chi-square test for each food across the countries"
      ]
    },
    {
      "cell_type": "markdown",
      "metadata": {
        "id": "IHqCxjHc-pLs"
      },
      "source": [
        "Given that there is a different missing count among countries, are there also specific food differently missing among the countries?"
      ]
    },
    {
      "cell_type": "code",
      "execution_count": null,
      "metadata": {
        "id": "s5cBq7Ae-pLs",
        "outputId": "f6b2b8ed-7bf7-4c14-92bd-1ba963bc345a",
        "colab": {
          "base_uri": "https://localhost:8080/"
        }
      },
      "outputs": [
        {
          "output_type": "execute_result",
          "data": {
            "text/plain": [
              "LIVER             3.335400e-03\n",
              "DARK_CHOCOLATE    1.660185e+01\n",
              "MILK_CHOCOLATE    3.226056e+01\n",
              "COFFEE            3.926349e-02\n",
              "ORANGE_JUICE      1.837476e-01\n",
              "                      ...     \n",
              "BANANA            3.797829e-09\n",
              "RICE              8.644600e-01\n",
              "BEET              1.282928e+01\n",
              "WHIPPED_CREAM     5.053172e+00\n",
              "MELON             5.969626e+00\n",
              "Length: 78, dtype: float64"
            ]
          },
          "metadata": {},
          "execution_count": 23
        }
      ],
      "source": [
        "food_miss_chisq = {}\n",
        "food_db2_nosd0_with_country = food_db2_nosd0.copy()\n",
        "food_db2_nosd0_with_country['paese'] = tab['paese']\n",
        "for food in food_db2_nosd0.columns:\n",
        "    if food == 'TOMATOES': continue\n",
        "    non_missing = food_db2_nosd0_with_country.groupby('paese')[food].count()\n",
        "    tot = food_db2_nosd0_with_country['paese'].value_counts()\n",
        "    missing = tot - non_missing\n",
        " \n",
        "    df = pandas.concat([non_missing, missing], axis=1)\n",
        "    food_miss_chisq[food] = chi2_contingency(df)[1]*79\n",
        " \n",
        "food_miss_chisq_db_with_art = pandas.Series(food_miss_chisq)\n",
        "food_miss_chisq_db = pandas.Series(food_miss_chisq)\n",
        "food_miss_chisq_db_with_art"
      ]
    },
    {
      "cell_type": "code",
      "execution_count": null,
      "metadata": {
        "id": "xUMQDvTS-pLs",
        "outputId": "81bd8e94-1ac2-48cb-eb82-5fb6f43c57d1",
        "colab": {
          "base_uri": "https://localhost:8080/"
        }
      },
      "outputs": [
        {
          "output_type": "execute_result",
          "data": {
            "text/plain": [
              "LIVER             3.293180e-03\n",
              "DARK_CHOCOLATE    1.639170e+01\n",
              "MILK_CHOCOLATE    3.185220e+01\n",
              "COFFEE            3.876648e-02\n",
              "ORANGE_JUICE      1.814217e-01\n",
              "                      ...     \n",
              "BANANA            3.749755e-09\n",
              "RICE              8.535174e-01\n",
              "BEET              1.266688e+01\n",
              "WHIPPED_CREAM     4.989208e+00\n",
              "MELON             5.894061e+00\n",
              "Length: 77, dtype: float64"
            ]
          },
          "metadata": {},
          "execution_count": 24
        }
      ],
      "source": [
        "food_miss_chisq = {}\n",
        "food_db2_nosd0_with_country = food_db2_nosd0.drop('ARTICHOKES', axis=1).copy()\n",
        "food_db2_nosd0_with_country['paese'] = tab['paese']\n",
        "for food in food_db2_nosd0.drop('ARTICHOKES', axis=1).columns:\n",
        "    if food == 'TOMATOES': continue\n",
        "    non_missing = food_db2_nosd0_with_country.groupby('paese')[food].count()\n",
        "    tot = food_db2_nosd0_with_country['paese'].value_counts()\n",
        "    missing = tot - non_missing\n",
        " \n",
        "    df = pandas.concat([non_missing, missing], axis=1)\n",
        "    food_miss_chisq[food] = chi2_contingency(df)[1]*78\n",
        " \n",
        "food_miss_chisq_db_no_art = pandas.Series(food_miss_chisq)\n",
        "food_miss_chisq_db_no_art"
      ]
    },
    {
      "cell_type": "code",
      "execution_count": null,
      "metadata": {
        "id": "DJp9CLFV-pLs",
        "outputId": "3a8251ba-2b25-4df2-e372-ae6f01a4889f",
        "colab": {
          "base_uri": "https://localhost:8080/"
        }
      },
      "outputs": [
        {
          "output_type": "execute_result",
          "data": {
            "text/plain": [
              "PORK_CHOPS        2.785512e-43\n",
              "SULGUNI           3.357674e-40\n",
              "KURUT             1.069225e-35\n",
              "HAM               2.974146e-35\n",
              "BRANDY            6.499540e-32\n",
              "RED_WINE          1.697917e-27\n",
              "COOKED_SALAMI     2.087025e-27\n",
              "WHITE_WINE        4.387721e-27\n",
              "VODKA             8.669290e-26\n",
              "BEER              2.198627e-23\n",
              "ASPARAGUS         9.215661e-15\n",
              "VINEGAR           9.417836e-11\n",
              "OLIVES            9.579215e-11\n",
              "BLACKBERRY        2.242224e-10\n",
              "BANANA            3.749755e-09\n",
              "ADGIKA            4.312905e-08\n",
              "JAM               4.116620e-07\n",
              "SALTY_RICOTTA     5.655774e-07\n",
              "SWEET_RICOTTA     3.005164e-06\n",
              "MULBERRY          5.300952e-06\n",
              "SPINACH           1.152051e-05\n",
              "BARLEY            1.294361e-05\n",
              "COTTAGE_CHEESE    1.767772e-04\n",
              "STRAWBERRIES      3.438298e-04\n",
              "CHILLI_PEPPER     1.707540e-03\n",
              "LIVER             3.293180e-03\n",
              "WILD_MUSHROOMS    4.349573e-03\n",
              "EGGPLANT          7.056997e-03\n",
              "SMOKED_CHEESE     1.249671e-02\n",
              "KILKA             2.000106e-02\n",
              "COFFEE            3.876648e-02\n",
              "dtype: float64"
            ]
          },
          "metadata": {},
          "execution_count": 25
        }
      ],
      "source": [
        "food_miss_chisq_db_no_art[food_miss_chisq_db_no_art < 0.05].sort_values()\n",
        "# supplementary table 3 with p-values"
      ]
    },
    {
      "cell_type": "code",
      "execution_count": null,
      "metadata": {
        "id": "XPxkDHvP-pLs",
        "colab": {
          "base_uri": "https://localhost:8080/"
        },
        "outputId": "808baf1d-09b9-40da-85af-8aa20dcca956"
      },
      "outputs": [
        {
          "output_type": "execute_result",
          "data": {
            "text/plain": [
              "31"
            ]
          },
          "metadata": {},
          "execution_count": 33
        }
      ],
      "source": [
        "sign_food=pandas.Series(food_miss_chisq)[pandas.Series(food_miss_chisq) < 0.05].index\n",
        "sign_food_na_count = food_db2_nosd0.isnull().groupby(tab['paese'])[sign_food].mean()\n",
        "sign_food_na_count_lf = sign_food_na_count.stack().reset_index()\n",
        "len(sign_food)"
      ]
    },
    {
      "cell_type": "code",
      "execution_count": null,
      "metadata": {
        "id": "OF3KRRWP-pLs",
        "outputId": "a52227c9-c4d1-435c-974a-f3e693ed951d",
        "colab": {
          "base_uri": "https://localhost:8080/"
        }
      },
      "outputs": [
        {
          "output_type": "execute_result",
          "data": {
            "text/plain": [
              "ARTICHOKES         True\n",
              "BLUEBERRY         False\n",
              "MELTED_CHEESE     False\n",
              "SHEEP_CHEESE      False\n",
              "SARDINES          False\n",
              "FAVA_BEANS        False\n",
              "BUCKWHEAT         False\n",
              "BEANS             False\n",
              "COOKED_CARROTS    False\n",
              "TURNIP            False\n",
              "YOGURT            False\n",
              "DARK_CHOCOLATE    False\n",
              "PEAS              False\n",
              "WHIPPED_CREAM     False\n",
              "DILL              False\n",
              "ALMONDS           False\n",
              "WHOLE_MILK        False\n",
              "LAMB              False\n",
              "DRIED_FRUIT       False\n",
              "ICE_CREAM         False\n",
              "DRY_BISCUITS      False\n",
              "MUTTON            False\n",
              "CREAM_BISCUITS    False\n",
              "PEPPERS           False\n",
              "SWEET_BREAD       False\n",
              "BEET              False\n",
              "GARLIC            False\n",
              "CAKE              False\n",
              "LEMONS            False\n",
              "MILK_CHOCOLATE    False\n",
              "HONEY             False\n",
              "ORANGE_JUICE      False\n",
              "ONION             False\n",
              "RAW_CARROTS       False\n",
              "PRUNE             False\n",
              "MELON             False\n",
              "HOT_TEA           False\n",
              "APPLES            False\n",
              "CABBAGE           False\n",
              "CUCUMBER          False\n",
              "WALNUTS           False\n",
              "BUTTER            False\n",
              "RICE              False\n",
              "SOUR_CHERRIES     False\n",
              "PLUM              False\n",
              "POMEGRANATE       False\n",
              "WATERMELON        False\n",
              "TOMATOES          False\n",
              "dtype: bool"
            ]
          },
          "metadata": {},
          "execution_count": 34
        }
      ],
      "source": [
        "(food_db2_nosd0.shape[0] - food_db2_nosd0.drop(sign_food, axis=1).count().sort_values()) > food_db2_nosd0.shape[0] * 0.5"
      ]
    },
    {
      "cell_type": "code",
      "execution_count": null,
      "metadata": {
        "id": "zSq0_OlY-pLs"
      },
      "outputs": [],
      "source": [
        "pandas.DataFrame(sign_food).to_csv('drive/My Drive/assegno_padova/clustering/new_analyses_2022/sign_food.tsv', index=False, header=False)"
      ]
    },
    {
      "cell_type": "code",
      "execution_count": null,
      "metadata": {
        "id": "nEL7j2sw-pLs",
        "colab": {
          "base_uri": "https://localhost:8080/",
          "height": 601
        },
        "outputId": "d9cf7de7-de22-4a68-88f8-81188d359610"
      },
      "outputs": [
        {
          "output_type": "display_data",
          "data": {
            "text/plain": [
              "<Figure size 1584x720 with 1 Axes>"
            ],
            "image/png": "[encoded data removed]"
          },
          "metadata": {
            "needs_background": "light"
          }
        }
      ],
      "source": [
        "plt.figure(figsize=(22,10))\n",
        "sns.set_context(\"poster\")\n",
        "sns.barplot(x=\"level_1\", y=0, hue=\"paese\", data=sign_food_na_count_lf)\n",
        "#sns.catplot(x=\"level_1\", y=0, hue=\"paese\", data=sign_food_na_count_lf, jitter=False)\n",
        "plt.xticks(rotation=90)\n",
        "plt.title('Missing ratio across countries')\n",
        "plt.legend(bbox_to_anchor=(1.05, 1.0), loc='upper left')\n",
        "plt.tight_layout()\n",
        "plt.ylabel('missing ratio')\n",
        "plt.xlabel('food with a significantly different missing count among countries (chi-square bonferroni-adjusted)')\n",
        "#plt.savefig('drive/My Drive/assegno_padova/clustering/new_analyses_2022/missing_ratio.pdf')\n",
        "plt.show()\n",
        "plt.close()"
      ]
    },
    {
      "cell_type": "markdown",
      "metadata": {
        "id": "XA7NkUi7-pLt"
      },
      "source": [
        "### Correlation of missing hits among different food"
      ]
    },
    {
      "cell_type": "code",
      "execution_count": null,
      "metadata": {
        "id": "eH_cQZ6g-pLt",
        "colab": {
          "base_uri": "https://localhost:8080/",
          "height": 728
        },
        "outputId": "a1265e3a-5355-492c-f8cb-76f85a9189df"
      },
      "outputs": [
        {
          "output_type": "display_data",
          "data": {
            "text/plain": [
              "<Figure size 720x720 with 4 Axes>"
            ],
            "image/png": "[encoded data removed]"
          },
          "metadata": {}
        }
      ],
      "source": [
        "from matplotlib.patches import Rectangle\n",
        "sns.set(font_scale=1)\n",
        "g = sns.clustermap(food_db2_nosd0[sign_food].isnull().corr(), center=0, vmin=-1, vmax=1, cmap=\"vlag\", linewidths=0.005, linecolor='grey')\n",
        "#plt.savefig('missing_correlation.pdf')\n",
        "\n",
        "ax = g.ax_heatmap\n",
        "\n",
        "ax.add_patch(Rectangle((13, 13), 8, 8, fill=False, edgecolor='black', lw=1))\n",
        "plt.show()\n",
        "#plt.savefig('drive/My Drive/assegno_padova/clustering/new_analyses_2022/missing_correlation_paper.pdf')\n",
        "plt.close()"
      ]
    },
    {
      "cell_type": "code",
      "execution_count": null,
      "metadata": {
        "id": "Lhte-e9N-pLx",
        "colab": {
          "base_uri": "https://localhost:8080/",
          "height": 741
        },
        "outputId": "83d6da26-4476-451d-f473-113f766dc815"
      },
      "outputs": [
        {
          "output_type": "display_data",
          "data": {
            "text/plain": [
              "<Figure size 720x720 with 4 Axes>"
            ],
            "image/png": "[encoded data removed]"
          },
          "metadata": {}
        }
      ],
      "source": [
        "# we remove in this plot \"tomatoes\" since it has no missing\n",
        "sns.set(font_scale=0.4)\n",
        "g = sns.clustermap(food_db2_nosd0.drop('TOMATOES', axis=1).isnull().corr(), center=0, vmin=-1, vmax=1, cmap=\"vlag\", linewidths=0.005, linecolor='grey')\n",
        "\n",
        "ax = g.ax_heatmap\n",
        "\n",
        "ax.add_patch(Rectangle((4, 4), 8, 8, fill=False, edgecolor='black', lw=1))\n",
        "\n",
        "#plt.savefig('drive/My Drive/assegno_padova/clustering/new_analyses_2022/missing_correlation_all_food_paper.pdf')\n",
        "plt.show()\n",
        "plt.close()"
      ]
    },
    {
      "cell_type": "markdown",
      "metadata": {
        "id": "PpZOLFA9-pLy"
      },
      "source": [
        "# Missing data, normalization and scaling"
      ]
    },
    {
      "cell_type": "markdown",
      "metadata": {
        "id": "xuu_QVxO-pLz"
      },
      "source": [
        "#### removal of 61 individuals with to many never tasted (missing) answers in not significant foods; removal of artichokes, fillna(1) and scaling"
      ]
    },
    {
      "cell_type": "code",
      "execution_count": null,
      "metadata": {
        "scrolled": true,
        "id": "9vDuT_OF-pL0"
      },
      "outputs": [],
      "source": [
        "to_remove = food_db2_nosd0.drop(sign_food, axis=1).isnull().mean(axis=1)[(food_db2_nosd0.drop(sign_food, axis=1).isnull().mean(axis=1) > 0.10)].index\n",
        "food_db2_nosd0_nomiss = food_db2_nosd0.drop(to_remove, axis=0)"
      ]
    },
    {
      "cell_type": "code",
      "execution_count": null,
      "metadata": {
        "id": "C8R8ACr1-pL0"
      },
      "outputs": [],
      "source": [
        "food_db_miss_first = food_db2_nosd0_nomiss.fillna(1).drop('ARTICHOKES', axis=1)"
      ]
    },
    {
      "cell_type": "code",
      "execution_count": null,
      "metadata": {
        "id": "rLcQb5Ha-pL0"
      },
      "outputs": [],
      "source": [
        "transformer = StandardScaler().fit_transform(food_db_miss_first.T).T\n",
        "food_db_miss_first_norm = (pandas.DataFrame(transformer, columns = food_db_miss_first.columns, index = food_db_miss_first.index))"
      ]
    },
    {
      "cell_type": "code",
      "execution_count": null,
      "metadata": {
        "id": "GsexcHRn-pL0"
      },
      "outputs": [],
      "source": [
        "#food_db_miss_first_norm.to_csv('dataset/1_all_food_missing_1.tsv', sep=\"\\t\")"
      ]
    },
    {
      "cell_type": "markdown",
      "source": [
        "### matrix for SpaceMix\n",
        "\n",
        "tertile transformation (0, 1 e 2) and then median per village"
      ],
      "metadata": {
        "id": "gP5D3dCG5r5q"
      }
    },
    {
      "cell_type": "code",
      "source": [
        "#pandas.qcut(food_db_miss_first_norm['LIVER'], q=3, labels=False)\n",
        "food_db_miss_first_norm_qcut = food_db_miss_first_norm.apply(lambda x: pandas.qcut(x, 3, labels=False), axis=0)\n",
        "food_db_miss_first_norm_qcut['VILLAGE'] = tab['village']"
      ],
      "metadata": {
        "id": "xf0xR1bF7oZJ"
      },
      "execution_count": null,
      "outputs": []
    },
    {
      "cell_type": "code",
      "source": [
        "qcut_median = food_db_miss_first_norm_qcut.groupby(['VILLAGE']).median()\n",
        "qcut_median.to_csv('drive/My Drive/assegno_padova/clustering/new_analyses_2022/dataset/food_db_miss_first_norm_qcut_median.tsv', sep=\"\\t\")"
      ],
      "metadata": {
        "id": "doHukFm_8Utw"
      },
      "execution_count": null,
      "outputs": []
    },
    {
      "cell_type": "code",
      "source": [
        "dist_food_db_miss_first_norm_corr = 1-numpy.square(food_db_miss_first_norm.T.corr())\n",
        "dist_food_db_miss_first_norm_corr.to_csv('drive/My Drive/assegno_padova/clustering/new_analyses_2022/dataset/dist_mat_all_food_missing_1_norm.tsv', sep=\"\\t\")"
      ],
      "metadata": {
        "id": "wDGG3f9eLQbv"
      },
      "execution_count": null,
      "outputs": []
    }
  ],
  "metadata": {
    "kernelspec": {
      "display_name": "Python 3",
      "language": "python",
      "name": "python3"
    },
    "language_info": {
      "codemirror_mode": {
        "name": "ipython",
        "version": 3
      },
      "file_extension": ".py",
      "mimetype": "text/x-python",
      "name": "python",
      "nbconvert_exporter": "python",
      "pygments_lexer": "ipython3",
      "version": "3.8.3"
    },
    "colab": {
      "name": "silk_road_2022_paper.ipynb",
      "provenance": [],
      "toc_visible": true
    }
  },
  "nbformat": 4,
  "nbformat_minor": 0
}
